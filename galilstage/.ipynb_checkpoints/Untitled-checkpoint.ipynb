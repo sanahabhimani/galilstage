{
 "cells": [
  {
   "cell_type": "code",
   "execution_count": null,
   "id": "ed45aec0-4f4f-4ee0-9254-28d60e68792d",
   "metadata": {},
   "outputs": [],
   "source": [
    "import importlib"
   ]
  },
  {
   "cell_type": "code",
   "execution_count": null,
   "id": "45c16e81-b380-4751-97fa-5806916993d2",
   "metadata": {},
   "outputs": [],
   "source": [
    "importlib.reload(commands.GalilStage)"
   ]
  },
  {
   "cell_type": "code",
   "execution_count": null,
   "id": "9421f504-9276-4fe3-913f-428e5175cf70",
   "metadata": {},
   "outputs": [],
   "source": [
    "dir(commands.GalilStage)"
   ]
  },
  {
   "cell_type": "code",
   "execution_count": 25,
   "id": "5f3762dc-e183-4a1c-b189-ded9876f66c6",
   "metadata": {},
   "outputs": [],
   "source": [
    "import os\n",
    "import commands\n",
    "from galilstage import GalilStage\n",
    "import toml\n",
    "import time"
   ]
  },
  {
   "cell_type": "code",
   "execution_count": 2,
   "id": "fea3151a-f9ba-4d9e-a52f-f3e89d184ab0",
   "metadata": {},
   "outputs": [
    {
     "name": "stdout",
     "output_type": "stream",
     "text": [
      "['/dev/cu.wlan-debug', '/dev/cu.LEDBulbSpeaker', '/dev/cu.Chiklee', '/dev/cu.Bluetooth-Incoming-Port', '/dev/cu.usbserial-210']\n"
     ]
    }
   ],
   "source": [
    "import serial.tools.list_ports\n",
    "print([p.device for p in serial.tools.list_ports.comports()])\n"
   ]
  },
  {
   "cell_type": "code",
   "execution_count": 3,
   "id": "2b60e022-738a-4843-ab4f-d8e59b3b559d",
   "metadata": {},
   "outputs": [
    {
     "name": "stdout",
     "output_type": "stream",
     "text": [
      "Loaded config from labconfig.toml\n"
     ]
    }
   ],
   "source": [
    "stage = GalilStage(\"labconfig.toml\", port='/dev/tty.usbserial-210', baudrate=115200)"
   ]
  },
  {
   "cell_type": "code",
   "execution_count": 4,
   "id": "68b3c693-6d45-4931-8f92-46add1ac5ab6",
   "metadata": {},
   "outputs": [
    {
     "name": "stdout",
     "output_type": "stream",
     "text": [
      "Connected to Galil on /dev/tty.usbserial-210\n"
     ]
    }
   ],
   "source": [
    "stage.connect()"
   ]
  },
  {
   "cell_type": "code",
   "execution_count": 5,
   "id": "b6b65ed5-97be-469c-8d77-484929c61a83",
   "metadata": {},
   "outputs": [
    {
     "name": "stdout",
     "output_type": "stream",
     "text": [
      "Sending confcomm: MTA=1;OEA=0;AGA=2;TLA=5;AUA=9;BAA;BMA=3276.8;MTB=1;OEB=0;AGB=2;TLB=5;AUB=9;BAB;BMB=3276.8;MTC=1;OEC=0;AGC=2;TLC=5;AUC=9;BAC;BMC=3276.8;MTD=1;OED=0;AGD=2;TLD=5;AUD=9;BAD;BMD=3276.8;BZ <1000>1500\n",
      "in command_config method, sleeping for 2 sec\n",
      "Initialized axis A, sleeping for 2 secs...\n",
      "Initialized axis B, sleeping for 2 secs...\n",
      "Initialized axis C, sleeping for 2 secs...\n",
      "Initialized axis D, sleeping for 2 secs...\n",
      "Setting maxspeed: SPA=100000.0;SPB=100000.0;SPC=100000.0;SPD=100000.0;\n",
      "Config commands sent.\n"
     ]
    },
    {
     "data": {
      "text/plain": [
       "True"
      ]
     },
     "execution_count": 5,
     "metadata": {},
     "output_type": "execute_result"
    }
   ],
   "source": [
    "stage.command_config()"
   ]
  },
  {
   "cell_type": "code",
   "execution_count": 8,
   "id": "76a05c09-dab9-46fc-a74a-308989501534",
   "metadata": {},
   "outputs": [
    {
     "data": {
      "text/plain": [
       "':'"
      ]
     },
     "execution_count": 8,
     "metadata": {},
     "output_type": "execute_result"
    }
   ],
   "source": [
    "stage.flip_limitswitch_polarity()"
   ]
  },
  {
   "cell_type": "code",
   "execution_count": 9,
   "id": "f86e1488-b77d-4a5b-abe6-65661fa381cc",
   "metadata": {},
   "outputs": [
    {
     "name": "stdout",
     "output_type": "stream",
     "text": [
      "Limit switch polarity 1.0000\n",
      ":\n"
     ]
    }
   ],
   "source": [
    "print(\"Limit switch polarity\", stage.query_status(\"_CN\"))"
   ]
  },
  {
   "cell_type": "code",
   "execution_count": 12,
   "id": "142350d5-0086-49b8-b123-49be288628e5",
   "metadata": {},
   "outputs": [
    {
     "data": {
      "text/plain": [
       "':'"
      ]
     },
     "execution_count": 12,
     "metadata": {},
     "output_type": "execute_result"
    }
   ],
   "source": [
    "stage.disable_limit_switch('B')"
   ]
  },
  {
   "cell_type": "code",
   "execution_count": 11,
   "id": "25f306ce-13cb-49ed-8e65-27f2c1a74edb",
   "metadata": {},
   "outputs": [
    {
     "name": "stdout",
     "output_type": "stream",
     "text": [
      "Disabling limit switch status: 3.0000\n",
      ":\n"
     ]
    }
   ],
   "source": [
    "print(\"Disabling limit switch status:\", stage.query_status(\"_LDB\"))"
   ]
  },
  {
   "cell_type": "code",
   "execution_count": 13,
   "id": "3812cb25-e47f-4fcd-abe1-17b643b40808",
   "metadata": {},
   "outputs": [
    {
     "name": "stdout",
     "output_type": "stream",
     "text": [
      "Disabling limit switch status: 3.0000\n",
      ":\n"
     ]
    }
   ],
   "source": [
    "print(\"Disabling limit switch status:\", stage.query_status(\"_LDD\"))"
   ]
  },
  {
   "cell_type": "code",
   "execution_count": 14,
   "id": "20705fd0-b954-4f49-9fa2-69f5d7b5b802",
   "metadata": {},
   "outputs": [
    {
     "data": {
      "text/plain": [
       "':'"
      ]
     },
     "execution_count": 14,
     "metadata": {},
     "output_type": "execute_result"
    }
   ],
   "source": [
    "stage.disable_limit_switch('D')"
   ]
  },
  {
   "cell_type": "code",
   "execution_count": 15,
   "id": "faaf8b9b-b865-4485-866f-fec6616cc41e",
   "metadata": {},
   "outputs": [
    {
     "name": "stdout",
     "output_type": "stream",
     "text": [
      "Disabling limit switch status: 3.0000\n",
      ":\n"
     ]
    }
   ],
   "source": [
    "print(\"Disabling limit switch status:\", stage.query_status(\"_LDD\"))"
   ]
  },
  {
   "cell_type": "code",
   "execution_count": 18,
   "id": "756d4bf8-e0f9-4083-9902-1df74a134fcc",
   "metadata": {},
   "outputs": [
    {
     "data": {
      "text/plain": [
       "':'"
      ]
     },
     "execution_count": 18,
     "metadata": {},
     "output_type": "execute_result"
    }
   ],
   "source": [
    "stage.command_rawsignal('GA ', ',A,,C') #GA ,A,,C"
   ]
  },
  {
   "cell_type": "code",
   "execution_count": 19,
   "id": "186352ad-6954-4bd8-870d-6c5ef504504a",
   "metadata": {},
   "outputs": [
    {
     "data": {
      "text/plain": [
       "':'"
      ]
     },
     "execution_count": 19,
     "metadata": {},
     "output_type": "execute_result"
    }
   ],
   "source": [
    "stage.command_rawsignal('GR ', ',-1,,1')"
   ]
  },
  {
   "cell_type": "code",
   "execution_count": 20,
   "id": "e3754e62-f7db-4f84-aa9a-c2a0acfa4651",
   "metadata": {},
   "outputs": [
    {
     "name": "stdout",
     "output_type": "stream",
     "text": [
      "check status of gearing ratio: 0.0000\n",
      ":\n"
     ]
    }
   ],
   "source": [
    "print(\"check status of gearing ratio:\", stage.query_status(\"_GRA\"))"
   ]
  },
  {
   "cell_type": "code",
   "execution_count": 21,
   "id": "8cb0e2d9-b271-45e9-b853-c517d8af39f0",
   "metadata": {},
   "outputs": [
    {
     "name": "stdout",
     "output_type": "stream",
     "text": [
      "check status of gearing ratio: -1.0000\n",
      ":\n"
     ]
    }
   ],
   "source": [
    "print(\"check status of gearing ratio:\", stage.query_status(\"_GRB\"))"
   ]
  },
  {
   "cell_type": "code",
   "execution_count": 22,
   "id": "92759147-f6b9-4fe6-8f74-96f9e04b1b03",
   "metadata": {},
   "outputs": [
    {
     "name": "stdout",
     "output_type": "stream",
     "text": [
      "check status of gearing ratio: 0.0000\n",
      ":\n"
     ]
    }
   ],
   "source": [
    "print(\"check status of gearing ratio:\", stage.query_status(\"_GRC\"))"
   ]
  },
  {
   "cell_type": "code",
   "execution_count": 23,
   "id": "7b2f8acf-8b63-44c5-800b-af5e0bb65c7f",
   "metadata": {},
   "outputs": [
    {
     "name": "stdout",
     "output_type": "stream",
     "text": [
      "check status of gearing ratio: 1.0000\n",
      ":\n"
     ]
    }
   ],
   "source": [
    "print(\"check status of gearing ratio:\", stage.query_status(\"_GRD\"))"
   ]
  },
  {
   "cell_type": "code",
   "execution_count": 26,
   "id": "ff12540e-90dd-458f-920d-992edd085060",
   "metadata": {},
   "outputs": [],
   "source": [
    "for axis in ['A', 'B', 'C', 'D']:\n",
    "    stage.enable_axis(axis)\n",
    "    time.sleep(2)"
   ]
  },
  {
   "cell_type": "code",
   "execution_count": 39,
   "id": "ae516a73-fcd8-490b-9744-ae30eb64002a",
   "metadata": {},
   "outputs": [
    {
     "name": "stdout",
     "output_type": "stream",
     "text": [
      "checking stage state 1.0000\n",
      ":\n"
     ]
    }
   ],
   "source": [
    "print(\"checking stage state\", stage.query_status(\"_MOA\"))"
   ]
  },
  {
   "cell_type": "code",
   "execution_count": 40,
   "id": "0b863480-2215-4621-ae2d-17df243a0b38",
   "metadata": {},
   "outputs": [
    {
     "name": "stdout",
     "output_type": "stream",
     "text": [
      "checking stage state 1.0000\n",
      ":\n"
     ]
    }
   ],
   "source": [
    "print(\"checking stage state\", stage.query_status(\"_MOB\"))"
   ]
  },
  {
   "cell_type": "code",
   "execution_count": 41,
   "id": "24ec60bf-8b30-43dd-91bb-ed9f19deb530",
   "metadata": {},
   "outputs": [
    {
     "name": "stdout",
     "output_type": "stream",
     "text": [
      "checking stage state 1.0000\n",
      ":\n"
     ]
    }
   ],
   "source": [
    "print(\"checking stage state\", stage.query_status(\"_MOC\"))"
   ]
  },
  {
   "cell_type": "code",
   "execution_count": 42,
   "id": "8da03ee7-867f-4c19-946e-98ddb73337ed",
   "metadata": {},
   "outputs": [
    {
     "name": "stdout",
     "output_type": "stream",
     "text": [
      "checking stage state 1.0000\n",
      ":\n"
     ]
    }
   ],
   "source": [
    "print(\"checking stage state\", stage.query_status(\"_MOD\"))"
   ]
  },
  {
   "cell_type": "code",
   "execution_count": 31,
   "id": "04576733-b4b7-4663-833c-a6078cd1e259",
   "metadata": {},
   "outputs": [
    {
     "data": {
      "text/plain": [
       "':'"
      ]
     },
     "execution_count": 31,
     "metadata": {},
     "output_type": "execute_result"
    }
   ],
   "source": [
    "stage.jog_axis('A', 30000)"
   ]
  },
  {
   "cell_type": "code",
   "execution_count": 32,
   "id": "a58b8982-83f5-4137-bb90-2b959b4f9cda",
   "metadata": {},
   "outputs": [
    {
     "name": "stdout",
     "output_type": "stream",
     "text": [
      "checking stage state 30000.0000\n",
      ":\n"
     ]
    }
   ],
   "source": [
    "print(\"checking stage state\", stage.query_status(\"_JGA\"))"
   ]
  },
  {
   "cell_type": "code",
   "execution_count": null,
   "id": "0e5cda78-ea46-4f4c-81ce-290088f1f6d4",
   "metadata": {},
   "outputs": [],
   "source": []
  },
  {
   "cell_type": "code",
   "execution_count": null,
   "id": "49abc3c3-8b57-4615-a129-c51422d26372",
   "metadata": {},
   "outputs": [],
   "source": []
  },
  {
   "cell_type": "code",
   "execution_count": null,
   "id": "ef9bed06-7efe-4ea6-a154-7ba90cd346c0",
   "metadata": {},
   "outputs": [],
   "source": []
  },
  {
   "cell_type": "code",
   "execution_count": null,
   "id": "264d20ef-75a2-4dce-b0fc-39fe6d3033ad",
   "metadata": {},
   "outputs": [],
   "source": [
    "stage.begin_axis_motion('A')"
   ]
  },
  {
   "cell_type": "code",
   "execution_count": null,
   "id": "0e7e79ca-5186-4235-a297-2f6b3781e30c",
   "metadata": {},
   "outputs": [],
   "source": []
  },
  {
   "cell_type": "code",
   "execution_count": 36,
   "id": "9f623045-92ff-4f5e-89a1-0e26b2527d23",
   "metadata": {},
   "outputs": [
    {
     "data": {
      "text/plain": [
       "':'"
      ]
     },
     "execution_count": 36,
     "metadata": {},
     "output_type": "execute_result"
    }
   ],
   "source": [
    "stage.stop()"
   ]
  },
  {
   "cell_type": "code",
   "execution_count": null,
   "id": "d34ec5ff-8a28-4084-a1f0-db1cc001f130",
   "metadata": {},
   "outputs": [],
   "source": [
    "stage.disconnect()"
   ]
  },
  {
   "cell_type": "code",
   "execution_count": 35,
   "id": "74adf997-3439-424e-bc3b-6adcdfd5badb",
   "metadata": {},
   "outputs": [
    {
     "data": {
      "text/plain": [
       "'?'"
      ]
     },
     "execution_count": 35,
     "metadata": {},
     "output_type": "execute_result"
    }
   ],
   "source": [
    "stage.disable_axis(['A'])"
   ]
  },
  {
   "cell_type": "code",
   "execution_count": null,
   "id": "dbc38e68-b04a-4449-9598-0de3294b181a",
   "metadata": {},
   "outputs": [],
   "source": []
  },
  {
   "cell_type": "code",
   "execution_count": 38,
   "id": "9fbba789-654f-44e7-b702-cbe4b02f735a",
   "metadata": {},
   "outputs": [
    {
     "data": {
      "text/plain": [
       "':'"
      ]
     },
     "execution_count": 38,
     "metadata": {},
     "output_type": "execute_result"
    }
   ],
   "source": [
    "stage.command_rawsignal('MOBCD')"
   ]
  },
  {
   "cell_type": "code",
   "execution_count": null,
   "id": "8ffed087-3c6a-4bda-a037-fac59ef11e55",
   "metadata": {},
   "outputs": [],
   "source": []
  },
  {
   "cell_type": "code",
   "execution_count": 43,
   "id": "4a4e603a-7026-4354-a30c-73803b2afa71",
   "metadata": {},
   "outputs": [
    {
     "name": "stdout",
     "output_type": "stream",
     "text": [
      "Disconnected.\n"
     ]
    }
   ],
   "source": [
    "stage.disconnect()"
   ]
  },
  {
   "cell_type": "markdown",
   "id": "52014abd-33ec-4bdc-9a66-a979750437a1",
   "metadata": {},
   "source": [
    "#### Thinking about the conf step that happens on the python command line and turning that into commands that initializeA and B etc etc: \n",
    "\n",
    "- conf = load TOML into Python objects\n",
    "- The actual sending happens when you later call initcommA, initcommB, etc."
   ]
  },
  {
   "cell_type": "code",
   "execution_count": null,
   "id": "37f8c669-b3bb-485d-9fce-32b086da1dac",
   "metadata": {},
   "outputs": [],
   "source": [
    "stage.load_config(\"labconfig.toml\")"
   ]
  },
  {
   "cell_type": "code",
   "execution_count": null,
   "id": "26cac1ed-cfd5-45ba-8cdc-0703f75060db",
   "metadata": {},
   "outputs": [],
   "source": [
    "stage.initialize_axis('A')  "
   ]
  },
  {
   "cell_type": "code",
   "execution_count": null,
   "id": "8767a698-fcf1-4526-bedc-a4f3bb224e69",
   "metadata": {},
   "outputs": [],
   "source": [
    "stage"
   ]
  },
  {
   "cell_type": "code",
   "execution_count": null,
   "id": "437d3087-79a1-4956-96a3-6277f152d6f1",
   "metadata": {},
   "outputs": [],
   "source": []
  },
  {
   "cell_type": "code",
   "execution_count": null,
   "id": "2746eb8b-f7c7-419c-9d9c-521849b2de93",
   "metadata": {},
   "outputs": [],
   "source": [
    "stage.enable_axis('A')  "
   ]
  },
  {
   "cell_type": "code",
   "execution_count": null,
   "id": "77c7bed1-bbd4-4278-8f74-add1666ab092",
   "metadata": {},
   "outputs": [],
   "source": []
  },
  {
   "cell_type": "code",
   "execution_count": null,
   "id": "ece19688-c6f0-4585-9e69-a5f13aff4c6c",
   "metadata": {},
   "outputs": [],
   "source": [
    "stage.initialize_axes()  "
   ]
  },
  {
   "cell_type": "code",
   "execution_count": null,
   "id": "5e8db7f9-dfc0-4a4f-b153-971cdcfb795f",
   "metadata": {},
   "outputs": [],
   "source": [
    "stage.change_gain('A', 1)   # sends \"AGA=1\"\n"
   ]
  },
  {
   "cell_type": "code",
   "execution_count": null,
   "id": "35425531-7a6d-4a2f-885c-4eafa3723461",
   "metadata": {},
   "outputs": [],
   "source": [
    "stage.initialize_axes()  "
   ]
  },
  {
   "cell_type": "code",
   "execution_count": null,
   "id": "044a0998-2ed9-46e2-bba9-ded5bde63a39",
   "metadata": {},
   "outputs": [],
   "source": [
    "print(\"Motor A on/off:\", stage.query_param(\"_MOA\"))\n",
    "print(\"Motor B on/off:\", stage.query_param(\"_MOB\"))\n",
    "print(\"KP gain A:\", stage.query_param(\"_AGA\"))\n",
    "print(\"Limit switch A:\", stage.query_param(\"_LTA\"))\n"
   ]
  },
  {
   "cell_type": "code",
   "execution_count": null,
   "id": "4eba815d-5e02-4778-9d55-a1a36f597ad8",
   "metadata": {},
   "outputs": [],
   "source": []
  }
 ],
 "metadata": {
  "kernelspec": {
   "display_name": "Python 3 (ipykernel)",
   "language": "python",
   "name": "python3"
  },
  "language_info": {
   "codemirror_mode": {
    "name": "ipython",
    "version": 3
   },
   "file_extension": ".py",
   "mimetype": "text/x-python",
   "name": "python",
   "nbconvert_exporter": "python",
   "pygments_lexer": "ipython3",
   "version": "3.11.11"
  }
 },
 "nbformat": 4,
 "nbformat_minor": 5
}
